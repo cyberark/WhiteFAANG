{
 "cells": [
  {
   "cell_type": "markdown",
   "id": "f5616f80-e7e1-4db5-8b7d-03994c13de97",
   "metadata": {},
   "source": [
    "<h2>[Apple] Find Physical Devices</h2>"
   ]
  },
  {
   "cell_type": "code",
   "execution_count": null,
   "id": "636ba224",
   "metadata": {},
   "outputs": [],
   "source": [
    "from pathlib import Path\n",
    "import json\n",
    "\n",
    "PREFIX_PATH = Path(\"<USER_PREFERRED_DONWLOAD_PATH>/Apple/\")\n",
    "BASE_PATH = \"\"\n",
    "REGISTERED_DEVICES_FILE_NAME = \"Devices Registered with Apple Messaging.json\"\n",
    "ACCESSORY_DEVICE_INFO_FILE_NAME = \"Other Data Part 1 of 2/Apple Features Using iCloud/BluetoothAccessory/AccessoryDeviceInfo.json\"\n",
    "\n",
    "trusted_device_file_path = PREFIX_PATH / BASE_PATH / REGISTERED_DEVICES_FILE_NAME\n",
    "bluetooth_file_path = PREFIX_PATH / BASE_PATH / ACCESSORY_DEVICE_INFO_FILE_NAME\n",
    "\n",
    "with open(trusted_device_file_path) as f:\n",
    "    data = json.load(f)\n",
    "print(data.get('devices')[0].get('os-version'))\n",
    "\n",
    "#The next code lists all Bluetooth devices including their MAC addresses.\n",
    "#CVE-2024-27867 enables an attacker to eavesdrop AirPods microphone using only a Mac address. Android devices using Apple products likely remain unpatched.\n",
    "with open(bluetooth_file_path) as f:\n",
    "    bt_data = json.load(f)\n",
    "\n",
    "try:\n",
    "    for accessory in bt_data.get('AccessoryDatabase')[0].get('devices'):\n",
    "        name = accessory.get('Accessory Name')\n",
    "        bt_mac_addr = accessory.get('Bluetooth Mac Address')\n",
    "        print(name, bt_mac_addr)\n",
    "except:\n",
    "    print(\"No Bluetooth devices were found\")"
   ]
  },
  {
   "cell_type": "markdown",
   "id": "37841f1b",
   "metadata": {},
   "source": [
    "| **Output** |\n",
    "| --- |\n",
    "| iPhone OS,17.2.1,20C53 |\n",
    "| AirPods Pro 4d:32:00:6a:42:d8 |"
   ]
  },
  {
   "cell_type": "markdown",
   "id": "26d0b20a-c7eb-4fa9-adcf-dd47fd290a14",
   "metadata": {},
   "source": [
    "<h2>[Apple] Find ISP (Internet Service Provider) + Mobile Carrier Name</h2>"
   ]
  },
  {
   "cell_type": "code",
   "execution_count": null,
   "id": "add9dfb2-bb83-485f-ab45-2669224eccde",
   "metadata": {},
   "outputs": [],
   "source": [
    "from pathlib import Path\n",
    "import pandas as pd\n",
    "import re\n",
    "\n",
    "PREFIX_PATH = Path(\"<USER_PREFERRED_DONWLOAD_PATH>/Apple/\")\n",
    "BASE_PATH = \"Apple Media Services Information Part 1 of 2/Apple_Media_Services/Stores Activity/Other Activity/\"\n",
    "SUBSCRIPTION_CLICK_ACTIVITY_FILE_NAME = \"Subscription Click Activity.csv\"\n",
    "ITUNES_PAYMENT_STACK_FILE_NAME = \"iTunes Payment Stack - Activity.csv\"\n",
    "\n",
    "click_activity_file_path = PREFIX_PATH / BASE_PATH / SUBSCRIPTION_CLICK_ACTIVITY_FILE_NAME\n",
    "payment_stack_file_path = PREFIX_PATH / BASE_PATH / ITUNES_PAYMENT_STACK_FILE_NAME\n",
    "\n",
    "store_subscription_click_activity = pd.read_csv(click_activity_file_path)\n",
    "itunes_payment_stack = pd.read_csv(payment_stack_file_path)\n",
    "\n",
    "ip_company_column = itunes_payment_stack.get('IP Company','None')\n",
    "\n",
    "def find_ip_company(ip_company_column):\n",
    "    return next((value for value in ip_company_column if value != 'None'), None)\n",
    "\n",
    "ip_company = find_ip_company(ip_company_column)\n",
    "print(ip_company)\n",
    "\n",
    "##### Mobile Carrier #####\n",
    "def extract_carrier_value(entry):\n",
    "    match = re.search(r'\"carrier\":\"([^\"]+)\"', entry)\n",
    "    print(match.group(1))\n",
    "    return match.group(1) if match else None\n",
    "    \n",
    "for entry in store_subscription_click_activity['Page Details']:\n",
    "    try:\n",
    "        res = extract_carrier_value(entry)\n",
    "        if(res != None):\n",
    "            break\n",
    "        print(res)\n",
    "    except:\n",
    "        pass\n"
   ]
  },
  {
   "cell_type": "markdown",
   "id": "b3063a24",
   "metadata": {},
   "source": [
    "| **Output** |\n",
    "| --- |\n",
    "| Verizon |\n",
    "| AT&T |"
   ]
  },
  {
   "cell_type": "markdown",
   "id": "48ea7d75-7d47-42d4-a517-d8556766b1ab",
   "metadata": {},
   "source": [
    "<h2>[Apple] Find All Developers Who Created the Apps on Your iOS Device (Top 10, Sorted by Date)</h2>"
   ]
  },
  {
   "cell_type": "code",
   "execution_count": null,
   "id": "ddd099d3-2567-41f5-8d65-af42a3477c39",
   "metadata": {},
   "outputs": [],
   "source": [
    "from pathlib import Path\n",
    "import pandas as pd\n",
    "import re\n",
    "\n",
    "PREFIX_PATH = Path(\"<USER_PREFERRED_DONWLOAD_PATH>/Apple/\")\n",
    "BASE_PATH = \"Apple Media Services Information Part 1 of 2/Apple_Media_Services/Stores Activity/Account and Transaction History/\"\n",
    "STORE_TRANSACTION_FILE_NAME = \"Store Transaction History.csv\"\n",
    "STORE_TRANSACTION_FREE_APPS_FILE_NAME = \"Store Transaction History - Free Apps.csv\"\n",
    "\n",
    "store_transaction_file_path = PREFIX_PATH / BASE_PATH / STORE_TRANSACTION_FILE_NAME\n",
    "store_transaction_free_file_path = PREFIX_PATH / BASE_PATH / STORE_TRANSACTION_FREE_APPS_FILE_NAME\n",
    "\n",
    "paid_apps_df = pd.read_csv(store_transaction_file_path)\n",
    "free_apps_df = pd.read_csv(store_transaction_free_file_path)\n",
    "\n",
    "num_of_paid_app_providers = paid_apps_df['Seller'].drop_duplicates().count() or 0\n",
    "paid_app_df_sorted_by_date = paid_apps_df.sort_values(by='Item Purchased Date', ascending=False)\n",
    "top_10_paid_app_providers = paid_app_df_sorted_by_date['Seller'].drop_duplicates().head(10)\n",
    "\n",
    "num_of_free_app_providers = free_apps_df['Seller'].drop_duplicates().count() or 0\n",
    "free_app_df_sorted_by_date = free_apps_df.sort_values(by='Item Purchased Date', ascending=False)\n",
    "top_10_free_app_providers = free_app_df_sorted_by_date['Seller'].drop_duplicates().head(10)\n",
    "\n",
    "\n",
    "print(f\"The user trusted {num_of_paid_app_providers} different paid app providers and {num_of_free_app_providers} free app providers.\\n\")\n",
    "\n",
    "print(f\"Here are the 10 latest paid providers:\")\n",
    "print(re.sub('(\\n +|^ +)','\\n',top_10_paid_app_providers.to_string(index=False)))\n",
    "\n",
    "print(f\"\\nHere are the 10 latest free providers:\")\n",
    "print(re.sub('(\\n +|^ +)','\\n',top_10_free_app_providers.to_string(index=False)))"
   ]
  },
  {
   "cell_type": "markdown",
   "id": "3462e4ef",
   "metadata": {},
   "source": [
    "**Output**\\\n",
    "The user trusted 431 different paid app providers and 842 free app providers.\n",
    "\n",
    "Here are the top 10 paid providers:\n",
    "\n",
    "| **Seller** |\n",
    "| --- |\n",
    "| Audible, Inc. |\n",
    "| JoyTunes |\n",
    "| Apple Inc. |\n",
    "| Sony Music |\n",
    "| Microsoft Corporation |\n",
    "| Netflix, Inc. |\n",
    "| Spotify Ltd. |\n",
    "| Adobe Inc. |\n",
    "| Disney |\n",
    "| Nintendo Co., Ltd. |\n",
    "\n",
    "Here are the top 10 free providers:\n",
    "\n",
    "| **Seller** |\n",
    "| --- |\n",
    "| Apple Inc. |\n",
    "| Duolingo |\n",
    "| Grammarly, Inc |\n",
    "| Google LLC |\n",
    "| OpenAI, L.L.C. |\n",
    "| Meta Platforms, Inc. |\n",
    "| Snap Inc. |\n",
    "| Zoom Video Communications, Inc. |\n",
    "| TikTok Inc. |\n",
    "| Imangi Studios (known for ”Temple Run”) |"
   ]
  },
  {
   "cell_type": "markdown",
   "id": "e86f1eb7-a991-4cdb-8927-f29f9d13d006",
   "metadata": {},
   "source": [
    "<h2>[Apple] Find the Top 3 Most Common Event Locations Based on Joe׳s Personal Calendar</h2>"
   ]
  },
  {
   "cell_type": "code",
   "execution_count": null,
   "id": "c1642ad3-83d0-4794-8db3-1bc13f8976b1",
   "metadata": {},
   "outputs": [],
   "source": [
    "from pathlib import Path\n",
    "import ics\n",
    "\n",
    "PREFIX_PATH = Path(\"<USER_PREFERRED_DONWLOAD_PATH>/Apple/\")\n",
    "BASE_PATH = \"iCloud Calendars and Reminders/Calendars/\"\n",
    "\n",
    "#Replace with the calendar file name\n",
    "CALENDARS_FILE_NAME = \"<CALENDAR_NAME>.ics\"\n",
    "\n",
    "calendar_file_path = PREFIX_PATH / BASE_PATH / CALENDARS_FILE_NAME\n",
    "\n",
    "with open(calendar_file_path,'r') as f:\n",
    "    icsFile = ics.Calendar(f.read())\n",
    "    locations = [event.location for event in icsFile.events if event.location]\n",
    "    location_df = pd.DataFrame(locations, columns=['Location'])\n",
    "    print(location_df.value_counts().head(3))"
   ]
  },
  {
   "cell_type": "markdown",
   "id": "854361c9",
   "metadata": {},
   "source": [
    "| **Location** | **Count** |\n",
    "| --- | --- |\n",
    "| Shake Shack, 400 W 8th St, Los Angeles, CA 90014, United States | 9 |\n",
    "| Corgi Cafe, C. de la Indústria, 78, Gràcia, 08025 Barcelona, Spain | 6 |\n",
    "| South Jersey Sports Center, 100 Pike Rd Bldg C, Mt Laurel Township, NJ 08054, United States | 3 |"
   ]
  },
  {
   "cell_type": "markdown",
   "id": "6a84785e-a168-4db2-95cf-8b4e42411917",
   "metadata": {},
   "source": [
    "<h2>[Google] Find the Top 3 User Agents Used by Joe</h2>"
   ]
  },
  {
   "cell_type": "code",
   "execution_count": null,
   "id": "c44900d8",
   "metadata": {},
   "outputs": [],
   "source": [
    "from pathlib import Path\n",
    "import pandas as pd\n",
    "\n",
    "PREFIX_PATH = Path(\"<USER_PREFERRED_DONWLOAD_PATH>/Google/\")\n",
    "BASE_PATH = \"Takeout/Google Account/\"\n",
    "SUBSCRIBER_INFO_FILE_NAME = \"<USERNAME>.SubscriberInfo.html\"\n",
    "\n",
    "path = PREFIX_PATH / BASE_PATH / SUBSCRIBER_INFO_FILE_NAME\n",
    "\n",
    "user_agent_df = pd.read_html(path)\n",
    "user_agent_table = user_agent_df[0]\n",
    "top_3_user_agents_table = user_agent_table.groupby(\"Raw User Agents\").count().sort_values(\"IP Address\", ascending=False).head(3)\n",
    "top_3_user_agents_table = top_3_user_agents_table.reset_index()[['Raw User Agents','Timestamp']]\n",
    "top_3_user_agents_table.rename(columns={'Raw User Agents':'User Agent','Timestamp':'Count'},inplace=True)\n",
    "print(top_3_user_agents_table)"
   ]
  },
  {
   "cell_type": "markdown",
   "id": "613a1a70",
   "metadata": {},
   "source": [
    "**Output**\n",
    "\n",
    "| User-Agents | Count |\n",
    "| --- | --- |\n",
    "| Mozilla/5.0 (Windows NT 10.0; Win64; x64) AppleWebKit/537.36 (KHTML, like Gecko) Chrome/116.0.0.0 Safari/537.36 | 8 |\n",
    "| Mozilla/5.0 (iPhone; CPU iPhone OS 16_0 like Mac OS X) AppleWebKit/605.1.15 (KHTML, like Gecko) Version/16.0 Mobile/15E148 Safari/604.1 | 5 |\n",
    "| Mozilla/5.0 (Linux; Android 13; SM-G991U) AppleWebKit/537.36 (KHTML, like Gecko) Chrome/115.0.5790.136 Mobile Safari/537.36 | 3 |"
   ]
  },
  {
   "cell_type": "markdown",
   "id": "45be96b1",
   "metadata": {},
   "source": [
    "<h2>[Google] Find Sensitive Data for Blackmail Purposes Using Past Searches </h2>"
   ]
  },
  {
   "cell_type": "code",
   "execution_count": null,
   "id": "d29ae9ee",
   "metadata": {},
   "outputs": [],
   "source": [
    "from pathlib import Path\n",
    "from bs4 import BeautifulSoup\n",
    "\n",
    "PREFIX_PATH = Path(\"<USER_PREFERRED_DONWLOAD_PATH>/Google/\")\n",
    "BASE_PATH = \"Takeout/My Activity/Search/\"\n",
    "MY_ACTIVITY_FILE_NAME = \"My Activity.html\"\n",
    "\n",
    "my_activity_file_path = PREFIX_PATH / BASE_PATH / MY_ACTIVITY_FILE_NAME\n",
    "\n",
    "sensitive_keyword_list = [\"loan\", \"bankruptcy\", \"overdue\", \"debt\", \"credit score\", \"bailout\", \"budget deficit\",\n",
    "                          \"arrears\", \"gambling\", \"betting\", \"Casino\", \"Poker\", \"Roulette\"]\n",
    "\n",
    "def read_large_html_file(file_path, chunk_size=1024):\n",
    "    with open(file_path, 'r', encoding='utf-8') as file:\n",
    "        while True:\n",
    "            chunk = file.read(chunk_size)\n",
    "            if not chunk:\n",
    "                break\n",
    "            \n",
    "            soup = BeautifulSoup(chunk, 'html5lib')\n",
    "            # Process the chunk\n",
    "            for key in sensitive_keyword_list:\n",
    "                if(key in soup.get_text()):\n",
    "                    print(key , soup.get_text())\n",
    "\n",
    "read_large_html_file(my_activity_file_path)"
   ]
  },
  {
   "cell_type": "markdown",
   "id": "22cba8c9",
   "metadata": {},
   "source": [
    "| **Output** |\n",
    "| --- |\n",
    "| ”loan”, You searched and visited “affordable loans for everyone!” |\n",
    "| ”overdue” You searched and visited - “Your bill is overdue? Contact our lawyers now!” |"
   ]
  },
  {
   "cell_type": "markdown",
   "id": "704190b4-b5de-4913-95ea-afb1a21fe991",
   "metadata": {},
   "source": [
    "<h2> [Meta] Find user location</h2>"
   ]
  },
  {
   "cell_type": "code",
   "execution_count": null,
   "id": "b8f3304c-7101-49a6-ae0f-09302d0c1662",
   "metadata": {},
   "outputs": [],
   "source": [
    "from pathlib import Path\n",
    "from bs4 import BeautifulSoup\n",
    "\n",
    "#Replace the user׳s details\n",
    "PREFIX_PATH = Path(\"<USER_PREFERRED_DONWLOAD_PATH>/Meta/\")\n",
    "BASE_PATH = \"facebook-[firstnameLastname]-[exportDate]-XXXXXXXX/logged_information/location/\"\n",
    "PRIMARY_LOCATION_FILE_NAME = \"primary_location.html\"\n",
    "\n",
    "primary_location_file_path = PREFIX_PATH / BASE_PATH / PRIMARY_LOCATION_FILE_NAME\n",
    "\n",
    "#Depends if you enabled your gps setting on the device. If not, only IP and public info are considered.\n",
    "with open(primary_location_file_path) as fp:\n",
    "    soup = BeautifulSoup(fp, 'html5lib')\n",
    "\n",
    "# Find the specific div that contains the location information\n",
    "location_div = soup.find('div', class_='_2ph_ _a6-p')\n",
    "\n",
    "# Extract the location text\n",
    "location_text = location_div.get_text(separator=' ', strip=True).split()\n",
    "for i, part in enumerate(location_text):\n",
    "    part = part.strip(\"\\u200f\")\n",
    "    if part.isdigit() and i > 0:\n",
    "        user_location = ' '.join(location_text[i-1:i+2])\n",
    "        break\n",
    "if user_location:\n",
    "    df = pd.DataFrame({'Location': [user_location]})\n",
    "    print(df)\n",
    "else:\n",
    "    print(\"User location not found.\")"
   ]
  },
  {
   "cell_type": "markdown",
   "id": "556f96d0",
   "metadata": {},
   "source": [
    "**Output**\n",
    "\n",
    "| Address | postalCode |\n",
    "| --- | --- |\n",
    "| **reduced address in US** | **reduced postal code** |"
   ]
  },
  {
   "cell_type": "markdown",
   "id": "8e62de09",
   "metadata": {},
   "source": [
    "<h2>[Meta] Find the top 20 posts that drawn the most attention from the user </h2>"
   ]
  },
  {
   "cell_type": "code",
   "execution_count": null,
   "id": "d61cd71d",
   "metadata": {},
   "outputs": [],
   "source": [
    "from pathlib import Path\n",
    "from bs4 import BeautifulSoup\n",
    "import glob\n",
    "\n",
    "PREFIX_PATH = Path(\"<USER_PREFERRED_DONWLOAD_PATH>/Meta/\")\n",
    "BASE_PATH = \"facebook-[firstnameLastname]-[exportDate]-XXXXXXXX/download_data_logs/data_types/0_/\"\n",
    "DATA_LOGS_FILE_NAME = \"page_*.html\"\n",
    "\n",
    "post_list = []\n",
    "def get_all_files(pattern):\n",
    "    return glob.glob(pattern)\n",
    "\n",
    "def is_numeric(value):\n",
    "    try:\n",
    "        float(value)\n",
    "        return True\n",
    "    except (TypeError, ValueError):\n",
    "        return False\n",
    "\n",
    "file_pattern = PREFIX_PATH / BASE_PATH / DATA_LOGS_FILE_NAME\n",
    "all_files = get_all_files(file_pattern)\n",
    "for file in all_files:\n",
    "    with open(file) as fp:\n",
    "        soup = BeautifulSoup(fp, 'html5lib')\n",
    "        table = soup.find('table')\n",
    "        headers = [header.text.strip() for header in table.find_all('th')]\n",
    "        rows = []\n",
    "        for row in table.find_all('tr')[1:]:\n",
    "            cells = row.find_all('td')\n",
    "            row_data = {headers[i]: cells[i].text.strip() for i in range(len(cells))}\n",
    "            if len(cells) > 2 and cells[2].a:\n",
    "                content_url = cells[2].a['href'].split('/\"><u>')[0]\n",
    "                entry = {'Content': content_url, 'Time': cells[1].text.strip()}\n",
    "                post_list.append(entry)\n",
    "\n",
    "sorted_data = sorted(post_list, key=lambda x: float(x['Time']), reverse=True)\n",
    "top_10_list = sorted_data[:10]\n",
    "\n",
    "for entry in top_10_list:\n",
    "    print(entry['Content'], entry['Time'])\n"
   ]
  },
  {
   "cell_type": "markdown",
   "id": "1c165148",
   "metadata": {},
   "source": [
    "**Output**\n",
    "\n",
    "| **Content** | **secondsViewd** |\n",
    "| --- | --- |\n",
    "| https://www.facebook.com/groups/politicsForFun/permalink/1633432166653678/ | 3984.7 |\n",
    "| https://www.facebook.com/loanMasterMoneyTalks/videos/332115653356/ | 3690.2 |\n",
    "..."
   ]
  }
 ],
 "metadata": {
  "kernelspec": {
   "display_name": "Python 3 (ipykernel)",
   "language": "python",
   "name": "python3"
  },
  "language_info": {
   "codemirror_mode": {
    "name": "ipython",
    "version": 3
   },
   "file_extension": ".py",
   "mimetype": "text/x-python",
   "name": "python",
   "nbconvert_exporter": "python",
   "pygments_lexer": "ipython3",
   "version": "3.12.3"
  }
 },
 "nbformat": 4,
 "nbformat_minor": 5
}
